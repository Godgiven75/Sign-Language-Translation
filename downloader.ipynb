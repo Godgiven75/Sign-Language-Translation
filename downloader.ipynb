{
 "cells": [
  {
   "cell_type": "code",
   "execution_count": 1,
   "metadata": {},
   "outputs": [],
   "source": [
    "import os\n",
    "import yt_dlp as youtube_dl\n",
    "from yt_dlp import YoutubeDL\n",
    "from tqdm import tqdm\n",
    "\n",
    "urls = [\n",
    "    'https://www.youtube.com/watch?v=4eNt91uV02o'\n",
    "    # Add more video URLs as needed\n",
    "]\n",
    "\n",
    "\n",
    "ydl_opts = {\n",
    "    'format': 'best',  #downloads best quality for now\n",
    "    'outtmpl': '%(title)s-%(id)s.%(ext)s',  \n",
    "    'ignoreerrors': True, \n",
    "}\n",
    "\n",
    "\n",
    "with YoutubeDL(ydl_opts) as ydl:\n",
    "    ydl.download(urls)"
   ]
  },
  {
   "cell_type": "code",
   "execution_count": 3,
   "metadata": {},
   "outputs": [
    {
     "name": "stderr",
     "output_type": "stream",
     "text": [
      "Downloading videos and subtitles:   0%|          | 0/7 [00:00<?, ?it/s]"
     ]
    },
    {
     "name": "stdout",
     "output_type": "stream",
     "text": [
      "[youtube] Extracting URL: https://www.youtube.com/watch?v=4eNt91uV02o\n",
      "[youtube] 4eNt91uV02o: Downloading webpage\n",
      "[youtube] 4eNt91uV02o: Downloading ios player API JSON\n",
      "[youtube] 4eNt91uV02o: Downloading android player API JSON\n",
      "[youtube] 4eNt91uV02o: Downloading m3u8 information\n",
      "[info] 4eNt91uV02o: Downloading subtitles: en\n"
     ]
    },
    {
     "name": "stderr",
     "output_type": "stream",
     "text": [
      "WARNING: No subtitle format found matching \"srt\" for language en, using vtt\n"
     ]
    },
    {
     "name": "stdout",
     "output_type": "stream",
     "text": [
      "[info] 4eNt91uV02o: Downloading 1 format(s): 18\n",
      "Deleting existing file data/Harry Potter： The Dream Team (Sign Language)-4eNt91uV02o.en.vtt\n",
      "[info] Writing video subtitles to: data/Harry Potter： The Dream Team (Sign Language)-4eNt91uV02o.en.vtt\n",
      "[download] Destination: data/Harry Potter： The Dream Team (Sign Language)-4eNt91uV02o.en.vtt\n",
      "[download] 100% of    577.00B in 00:00:00 at 11.84KiB/s\n"
     ]
    },
    {
     "name": "stderr",
     "output_type": "stream",
     "text": [
      "ERROR: unable to download video data: HTTP Error 403: Forbidden\n",
      "Downloading videos and subtitles:  14%|█▍        | 1/7 [00:01<00:08,  1.46s/it]"
     ]
    },
    {
     "name": "stdout",
     "output_type": "stream",
     "text": [
      "[youtube] Extracting URL: https://www.youtube.com/watch?v=UznY5SfH0RI\n",
      "[youtube] UznY5SfH0RI: Downloading webpage\n",
      "[youtube] UznY5SfH0RI: Downloading ios player API JSON\n",
      "[youtube] UznY5SfH0RI: Downloading android player API JSON\n",
      "[youtube] UznY5SfH0RI: Downloading m3u8 information\n",
      "[youtube] UznY5SfH0RI: Downloading MPD manifest\n",
      "[info] UznY5SfH0RI: Downloading subtitles: en-0hllRZe4s5s\n"
     ]
    },
    {
     "name": "stderr",
     "output_type": "stream",
     "text": [
      "WARNING: No subtitle format found matching \"srt\" for language en-0hllRZe4s5s, using vtt\n"
     ]
    },
    {
     "name": "stdout",
     "output_type": "stream",
     "text": [
      "[info] UznY5SfH0RI: Downloading 1 format(s): 18\n",
      "Deleting existing file data/Dance with You-UznY5SfH0RI.en-0hllRZe4s5s.vtt\n",
      "[info] Writing video subtitles to: data/Dance with You-UznY5SfH0RI.en-0hllRZe4s5s.vtt\n",
      "[download] Destination: data/Dance with You-UznY5SfH0RI.en-0hllRZe4s5s.vtt\n",
      "[download] 100% of    3.64KiB in 00:00:00 at 61.16KiB/s\n"
     ]
    },
    {
     "name": "stderr",
     "output_type": "stream",
     "text": [
      "ERROR: unable to download video data: HTTP Error 403: Forbidden\n",
      "Downloading videos and subtitles:  29%|██▊       | 2/7 [00:02<00:06,  1.31s/it]"
     ]
    },
    {
     "name": "stdout",
     "output_type": "stream",
     "text": [
      "[youtube] Extracting URL: https://www.youtube.com/watch?v=JfWFKcT8wPQ\n",
      "[youtube] JfWFKcT8wPQ: Downloading webpage\n",
      "[youtube] JfWFKcT8wPQ: Downloading ios player API JSON\n",
      "[youtube] JfWFKcT8wPQ: Downloading android player API JSON\n",
      "[youtube] JfWFKcT8wPQ: Downloading m3u8 information\n",
      "[info] JfWFKcT8wPQ: Downloading subtitles: ase\n"
     ]
    },
    {
     "name": "stderr",
     "output_type": "stream",
     "text": [
      "WARNING: No subtitle format found matching \"srt\" for language ase, using vtt\n"
     ]
    },
    {
     "name": "stdout",
     "output_type": "stream",
     "text": [
      "[info] JfWFKcT8wPQ: Downloading 1 format(s): 22\n",
      "Deleting existing file data/Sign1News Live 2.26.20-JfWFKcT8wPQ.ase.vtt\n",
      "[info] Writing video subtitles to: data/Sign1News Live 2.26.20-JfWFKcT8wPQ.ase.vtt\n",
      "[download] Destination: data/Sign1News Live 2.26.20-JfWFKcT8wPQ.ase.vtt\n",
      "[download] 100% of    6.26KiB in 00:00:00 at 109.60KiB/s\n"
     ]
    },
    {
     "name": "stderr",
     "output_type": "stream",
     "text": [
      "ERROR: unable to download video data: HTTP Error 403: Forbidden\n",
      "Downloading videos and subtitles:  43%|████▎     | 3/7 [00:03<00:04,  1.15s/it]"
     ]
    },
    {
     "name": "stdout",
     "output_type": "stream",
     "text": [
      "[youtube] Extracting URL: https://www.youtube.com/watch?v=vOdoFInjH8s\n",
      "[youtube] vOdoFInjH8s: Downloading webpage\n",
      "[youtube] vOdoFInjH8s: Downloading ios player API JSON\n",
      "[youtube] vOdoFInjH8s: Downloading android player API JSON\n"
     ]
    },
    {
     "name": "stderr",
     "output_type": "stream",
     "text": [
      "WARNING: [youtube] Skipping player responses from android clients (got player responses for video \"aQvGIIdgFDM\" instead of \"vOdoFInjH8s\")\n"
     ]
    },
    {
     "name": "stdout",
     "output_type": "stream",
     "text": [
      "[youtube] vOdoFInjH8s: Downloading m3u8 information\n",
      "[info] vOdoFInjH8s: Downloading subtitles: en\n"
     ]
    },
    {
     "name": "stderr",
     "output_type": "stream",
     "text": [
      "WARNING: No subtitle format found matching \"srt\" for language en, using vtt\n"
     ]
    },
    {
     "name": "stdout",
     "output_type": "stream",
     "text": [
      "[info] vOdoFInjH8s: Downloading 1 format(s): 22\n",
      "Deleting existing file data/Week 12 Vocabulary Video-vOdoFInjH8s.en.vtt\n",
      "[info] Writing video subtitles to: data/Week 12 Vocabulary Video-vOdoFInjH8s.en.vtt\n",
      "[download] Destination: data/Week 12 Vocabulary Video-vOdoFInjH8s.en.vtt\n",
      "[download] 100% of    721.00B in 00:00:00 at 13.02KiB/s\n"
     ]
    },
    {
     "name": "stderr",
     "output_type": "stream",
     "text": [
      "ERROR: unable to download video data: HTTP Error 403: Forbidden\n",
      "Downloading videos and subtitles:  57%|█████▋    | 4/7 [00:06<00:05,  1.82s/it]"
     ]
    },
    {
     "name": "stdout",
     "output_type": "stream",
     "text": [
      "[youtube] Extracting URL: https://www.youtube.com/watch?v=eOJfTd3nybA\n",
      "[youtube] eOJfTd3nybA: Downloading webpage\n",
      "[youtube] eOJfTd3nybA: Downloading ios player API JSON\n",
      "[youtube] eOJfTd3nybA: Downloading android player API JSON\n"
     ]
    },
    {
     "name": "stderr",
     "output_type": "stream",
     "text": [
      "ERROR: [youtube] eOJfTd3nybA: Private video. Sign in if you've been granted access to this video\n",
      "Downloading videos and subtitles:  71%|███████▏  | 5/7 [00:06<00:02,  1.27s/it]"
     ]
    },
    {
     "name": "stdout",
     "output_type": "stream",
     "text": [
      "[youtube] Extracting URL: https://www.youtube.com/watch?v=LSmWzwmlnxc\n",
      "[youtube] LSmWzwmlnxc: Downloading webpage\n",
      "[youtube] LSmWzwmlnxc: Downloading ios player API JSON\n",
      "[youtube] LSmWzwmlnxc: Downloading android player API JSON\n",
      "[youtube] LSmWzwmlnxc: Downloading m3u8 information\n",
      "[info] LSmWzwmlnxc: Downloading subtitles: en\n"
     ]
    },
    {
     "name": "stderr",
     "output_type": "stream",
     "text": [
      "WARNING: No subtitle format found matching \"srt\" for language en, using vtt\n"
     ]
    },
    {
     "name": "stdout",
     "output_type": "stream",
     "text": [
      "[info] LSmWzwmlnxc: Downloading 1 format(s): 22\n",
      "Deleting existing file data/Teaching Distance Learning-LSmWzwmlnxc.en.vtt\n",
      "[info] Writing video subtitles to: data/Teaching Distance Learning-LSmWzwmlnxc.en.vtt\n",
      "[download] Destination: data/Teaching Distance Learning-LSmWzwmlnxc.en.vtt\n",
      "[download] 100% of    2.88KiB in 00:00:00 at 44.31KiB/s\n"
     ]
    },
    {
     "name": "stderr",
     "output_type": "stream",
     "text": [
      "ERROR: unable to download video data: HTTP Error 403: Forbidden\n",
      "Downloading videos and subtitles:  86%|████████▌ | 6/7 [00:07<00:01,  1.24s/it]"
     ]
    },
    {
     "name": "stdout",
     "output_type": "stream",
     "text": [
      "[youtube] Extracting URL: https://www.youtube.com/watch?v=SqxjhX6wunw\n",
      "[youtube] SqxjhX6wunw: Downloading webpage\n",
      "[youtube] SqxjhX6wunw: Downloading ios player API JSON\n",
      "[youtube] SqxjhX6wunw: Downloading android player API JSON\n",
      "[youtube] SqxjhX6wunw: Downloading m3u8 information\n",
      "[info] SqxjhX6wunw: Downloading subtitles: en-US\n"
     ]
    },
    {
     "name": "stderr",
     "output_type": "stream",
     "text": [
      "WARNING: No subtitle format found matching \"srt\" for language en-US, using vtt\n"
     ]
    },
    {
     "name": "stdout",
     "output_type": "stream",
     "text": [
      "[info] SqxjhX6wunw: Downloading 1 format(s): 22\n",
      "Deleting existing file data/Unit 15- Why People Move-SqxjhX6wunw.en-US.vtt\n",
      "[info] Writing video subtitles to: data/Unit 15- Why People Move-SqxjhX6wunw.en-US.vtt\n",
      "[download] Destination: data/Unit 15- Why People Move-SqxjhX6wunw.en-US.vtt\n",
      "[download] 100% of     90.00B in 00:00:00 at 1.86KiB/s\n"
     ]
    },
    {
     "name": "stderr",
     "output_type": "stream",
     "text": [
      "ERROR: unable to download video data: HTTP Error 403: Forbidden\n",
      "Downloading videos and subtitles: 100%|██████████| 7/7 [00:09<00:00,  1.30s/it]\n"
     ]
    }
   ],
   "source": [
    "nb_vid = 7\n",
    "with open('/home/grt/GloFE/YouTubeASL/youtube_asl_video_ids.txt', 'r') as file:\n",
    "    url_endings = [next(file).strip() for _ in range(nb_vid)]\n",
    "    urls = ['https://www.youtube.com/watch?v=' + url_end for url_end in url_endings]\n",
    "\n",
    "# Set the download options\n",
    "ydl_opts = {\n",
    "    'format': 'best', \n",
    "    'outtmpl': 'data/%(title)s-%(id)s.%(ext)s',\n",
    "    'ignoreerrors': True,\n",
    "    'writesubtitles': True, \n",
    "    'subtitlesformat': 'srt',  \n",
    "    #'subtitleslangs': ['en'],  \n",
    "}\n",
    "# Download 'nb_vid' videos and their subtitles\n",
    "with YoutubeDL(ydl_opts) as ydl:\n",
    "    for url in tqdm(urls, desc=\"Downloading videos and subtitles\", total=nb_vid):\n",
    "        ydl.download([url])"
   ]
  },
  {
   "cell_type": "code",
   "execution_count": null,
   "metadata": {},
   "outputs": [],
   "source": []
  }
 ],
 "metadata": {
  "kernelspec": {
   "display_name": "Python 3",
   "language": "python",
   "name": "python3"
  },
  "language_info": {
   "codemirror_mode": {
    "name": "ipython",
    "version": 3
   },
   "file_extension": ".py",
   "mimetype": "text/x-python",
   "name": "python",
   "nbconvert_exporter": "python",
   "pygments_lexer": "ipython3",
   "version": "3.9.7"
  }
 },
 "nbformat": 4,
 "nbformat_minor": 2
}
