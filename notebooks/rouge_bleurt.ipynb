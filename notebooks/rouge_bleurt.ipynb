{
 "cells": [
  {
   "cell_type": "code",
   "execution_count": 1,
   "metadata": {},
   "outputs": [
    {
     "ename": "ModuleNotFoundError",
     "evalue": "No module named 'rouge'",
     "output_type": "error",
     "traceback": [
      "\u001b[0;31m---------------------------------------------------------------------------\u001b[0m",
      "\u001b[0;31mModuleNotFoundError\u001b[0m                       Traceback (most recent call last)",
      "\u001b[0;32m/tmp/ipykernel_2506991/3474356799.py\u001b[0m in \u001b[0;36m<module>\u001b[0;34m\u001b[0m\n\u001b[0;32m----> 1\u001b[0;31m \u001b[0;32mfrom\u001b[0m \u001b[0mrouge\u001b[0m \u001b[0;32mimport\u001b[0m \u001b[0mRouge\u001b[0m\u001b[0;34m\u001b[0m\u001b[0;34m\u001b[0m\u001b[0m\n\u001b[0m\u001b[1;32m      2\u001b[0m \u001b[0;32mimport\u001b[0m \u001b[0mpandas\u001b[0m \u001b[0;32mas\u001b[0m \u001b[0mpd\u001b[0m\u001b[0;34m\u001b[0m\u001b[0;34m\u001b[0m\u001b[0m\n",
      "\u001b[0;31mModuleNotFoundError\u001b[0m: No module named 'rouge'"
     ]
    }
   ],
   "source": [
    "from rouge import Rouge\n",
    "import pandas as pd"
   ]
  },
  {
   "cell_type": "code",
   "execution_count": 2,
   "metadata": {},
   "outputs": [],
   "source": [
    "def rouge_l_f1(csv_path):\n",
    "    with open(csv_path, 'r') as f:\n",
    "        content = f.readlines()\n",
    "        content = [x.split('|') for x in content]\n",
    "    hyp = [x[0] for x in content]\n",
    "    ref = [x[1] for x in content]\n",
    "\n",
    "    rouge=Rouge()\n",
    "    scores = rouge.get_scores(hyp, ref, avg=True)\n",
    "    print(scores['rouge-l']['f'])"
   ]
  },
  {
   "cell_type": "code",
   "execution_count": 3,
   "metadata": {},
   "outputs": [
    {
     "name": "stdout",
     "output_type": "stream",
     "text": [
      "0.21803478079814365\n"
     ]
    }
   ],
   "source": [
    "csv_path = '/home/grt/GloFE/pre-trained/vn_model/test-vn-test_test_eval.csv'\n",
    "rouge_l_f1(csv_path)"
   ]
  },
  {
   "cell_type": "code",
   "execution_count": 4,
   "metadata": {},
   "outputs": [],
   "source": [
    "from bleurt import score\n",
    "from rouge import Rouge\n",
    "import pandas as pd"
   ]
  },
  {
   "cell_type": "code",
   "execution_count": null,
   "metadata": {},
   "outputs": [],
   "source": [
    "def eval_rouge_bleurt(csv_path, scorer):\n",
    "    with open(csv_path, 'r') as f:\n",
    "        content = f.readlines()\n",
    "        content = [x.split('|') for x in content]\n",
    "    hyp = [x[0] for x in content]\n",
    "    ref = [x[1] for x in content]\n",
    "    # evaluate rouge-l\n",
    "    rouge=Rouge()\n",
    "    scores_rouge = rouge.get_scores(hyp, ref, avg=True)\n",
    "    # evaluate BLEURT\n",
    "    # scorer = score.BleurtScorer('/mnt/workspace/bleurt/bleurt/BLEURT-20')\n",
    "    scores_bleurt = scorer.score(references=ref, candidates=hyp)\n",
    "    # assert isinstance(scores, list) and len(scores) == 1\n",
    "    print('Rouge-L:', scores_rouge['rouge-l']['f'], ' BLEURT:', sum(scores_bleurt)/len(scores_bleurt))\n",
    "    "
   ]
  },
  {
   "cell_type": "code",
   "execution_count": null,
   "metadata": {},
   "outputs": [],
   "source": [
    "# install BLEURT from their repo and download the corresponding model checkpoint\n",
    "checkpoint = \"/mnt/workspace/bleurt/bleurt/BLEURT-20\"\n",
    "scorer = score.BleurtScorer(checkpoint)"
   ]
  }
 ],
 "metadata": {
  "kernelspec": {
   "display_name": "Python 3 (ipykernel)",
   "language": "python",
   "name": "python3"
  },
  "language_info": {
   "codemirror_mode": {
    "name": "ipython",
    "version": 3
   },
   "file_extension": ".py",
   "mimetype": "text/x-python",
   "name": "python",
   "nbconvert_exporter": "python",
   "pygments_lexer": "ipython3",
   "version": "3.9.7"
  },
  "vscode": {
   "interpreter": {
    "hash": "1a5ee8f268a58a1501ad7aef09cde53105f57cea18e29cd62af7d0e62261f331"
   }
  }
 },
 "nbformat": 4,
 "nbformat_minor": 4
}
